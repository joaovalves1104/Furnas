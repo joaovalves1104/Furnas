{
 "cells": [
  {
   "cell_type": "code",
   "execution_count": 2,
   "metadata": {},
   "outputs": [],
   "source": [
    "from pgmpy.models import BayesianNetwork\n",
    "from pgmpy.estimators import MaximumLikelihoodEstimator\n",
    "import json\n",
    "from bayesian_predic__ import BayPredict"
   ]
  },
  {
   "cell_type": "code",
   "execution_count": 3,
   "metadata": {},
   "outputs": [],
   "source": [
    "#Foi necessário pra eu replicar a base de dados categorizada pra utilizar na extimção das CPDS\n",
    "with open('ind_004.json', 'r') as f:\n",
    "    params = json.load(f)\n",
    "\n",
    "N_YEARS = params['n_years']\n",
    "NORM_TYPE = params['norm_type']\n",
    "N_CAT = params['n_cat']\n",
    "TARGET_VRIABLE = params['target_variable']\n",
    "TOPOLOGY = params['topologia']\n",
    "DATA_SOURCE = params['data_source']\n",
    "STARTING_YEAR = params['starting_year']\n",
    "\n",
    "pred = BayPredict(N_YEARS, NORM_TYPE, N_CAT, TARGET_VRIABLE, TOPOLOGY, DATA_SOURCE, STARTING_YEAR)\n",
    "\n",
    "df = pred.DESEASONED_DF.pipe(pred.normalize_and_categorize_data)\n",
    "\n",
    "df = df.iloc[:, :len(df.columns)//2]\n",
    "\n",
    "df.columns = [column.split(':')[0] for column in df.columns]"
   ]
  },
  {
   "cell_type": "code",
   "execution_count": 4,
   "metadata": {},
   "outputs": [],
   "source": [
    "## Caso a topologia esteja com as variáveis com os nomes de 0 a n como mostrado no cromossomo\n",
    "from AG_funcs import get_random_topology_edges, VARIABLE_MAP\n",
    "\n",
    "top = get_random_topology_edges(4,4, VARIABLE_MAP) #Só para gerat um exemplo\n",
    "\n",
    "topology = []\n",
    "for edge in top:\n",
    "    topology.append([VARIABLE_MAP[edge[0]], VARIABLE_MAP[edge[1]]])"
   ]
  },
  {
   "cell_type": "code",
   "execution_count": 5,
   "metadata": {},
   "outputs": [],
   "source": [
    "node_set = set({})\n",
    "for edge in topology:\n",
    "    for node in edge:\n",
    "        node_set = node_set | {node}"
   ]
  },
  {
   "cell_type": "code",
   "execution_count": 6,
   "metadata": {},
   "outputs": [],
   "source": [
    "bayesian_network = BayesianNetwork(topology)"
   ]
  },
  {
   "cell_type": "code",
   "execution_count": 7,
   "metadata": {},
   "outputs": [],
   "source": [
    "#estimando as cpds baseando-se nos dados\n",
    "list_cpds = [MaximumLikelihoodEstimator(bayesian_network, df).estimate_cpd(node) for node in node_set]\n",
    "\n",
    "bayesian_network.add_cpds(*list_cpds)"
   ]
  },
  {
   "cell_type": "code",
   "execution_count": 9,
   "metadata": {},
   "outputs": [
    {
     "data": {
      "text/plain": [
       "[['SIN-DM', 'TER'], ['SIN-DM', 'NUC'], ['Preco_L', 'TER'], ['TER', 'NUC']]"
      ]
     },
     "execution_count": 9,
     "metadata": {},
     "output_type": "execute_result"
    }
   ],
   "source": [
    "topology"
   ]
  },
  {
   "cell_type": "code",
   "execution_count": 8,
   "metadata": {},
   "outputs": [
    {
     "ename": "ValueError",
     "evalue": "Node SIN-EA not in not in graph",
     "output_type": "error",
     "traceback": [
      "\u001b[1;31m---------------------------------------------------------------------------\u001b[0m",
      "\u001b[1;31mValueError\u001b[0m                                Traceback (most recent call last)",
      "Cell \u001b[1;32mIn[8], line 6\u001b[0m\n\u001b[0;32m      2\u001b[0m infer \u001b[38;5;241m=\u001b[39m VariableElimination(bayesian_network)\n\u001b[0;32m      3\u001b[0m \u001b[38;5;66;03m#variables recebe a lista de variáveis que se deseja observar\u001b[39;00m\n\u001b[0;32m      4\u001b[0m \u001b[38;5;66;03m#evidence são as inferências, nesse caso, que a energia armazenada será estado 4\u001b[39;00m\n\u001b[1;32m----> 6\u001b[0m \u001b[38;5;28mprint\u001b[39m(\u001b[43minfer\u001b[49m\u001b[38;5;241;43m.\u001b[39;49m\u001b[43mquery\u001b[49m\u001b[43m(\u001b[49m\u001b[43mvariables\u001b[49m\u001b[38;5;241;43m=\u001b[39;49m\u001b[43m[\u001b[49m\u001b[38;5;124;43m'\u001b[39;49m\u001b[38;5;124;43mTER\u001b[39;49m\u001b[38;5;124;43m'\u001b[39;49m\u001b[43m]\u001b[49m\u001b[43m,\u001b[49m\u001b[43m \u001b[49m\u001b[43mevidence\u001b[49m\u001b[38;5;241;43m=\u001b[39;49m\u001b[43m{\u001b[49m\u001b[38;5;124;43m'\u001b[39;49m\u001b[38;5;124;43mSIN-EA\u001b[39;49m\u001b[38;5;124;43m'\u001b[39;49m\u001b[43m:\u001b[49m\u001b[43m \u001b[49m\u001b[38;5;241;43m4\u001b[39;49m\u001b[43m}\u001b[49m\u001b[43m)\u001b[49m)\n",
      "File \u001b[1;32mc:\\Users\\lauro\\AppData\\Local\\Programs\\Python\\Python311\\Lib\\site-packages\\pgmpy\\inference\\ExactInference.py:317\u001b[0m, in \u001b[0;36mVariableElimination.query\u001b[1;34m(self, variables, evidence, virtual_evidence, elimination_order, joint, show_progress)\u001b[0m\n\u001b[0;32m    315\u001b[0m \u001b[38;5;66;03m# Step 3: Prune the network based on variables and evidence.\u001b[39;00m\n\u001b[0;32m    316\u001b[0m \u001b[38;5;28;01mif\u001b[39;00m \u001b[38;5;28misinstance\u001b[39m(\u001b[38;5;28mself\u001b[39m\u001b[38;5;241m.\u001b[39mmodel, BayesianNetwork):\n\u001b[1;32m--> 317\u001b[0m     model_reduced, evidence \u001b[38;5;241m=\u001b[39m \u001b[38;5;28;43mself\u001b[39;49m\u001b[38;5;241;43m.\u001b[39;49m\u001b[43m_prune_bayesian_model\u001b[49m\u001b[43m(\u001b[49m\u001b[43mvariables\u001b[49m\u001b[43m,\u001b[49m\u001b[43m \u001b[49m\u001b[43mevidence\u001b[49m\u001b[43m)\u001b[49m\n\u001b[0;32m    318\u001b[0m     factors \u001b[38;5;241m=\u001b[39m model_reduced\u001b[38;5;241m.\u001b[39mcpds\n\u001b[0;32m    319\u001b[0m \u001b[38;5;28;01melse\u001b[39;00m:\n",
      "File \u001b[1;32mc:\\Users\\lauro\\AppData\\Local\\Programs\\Python\\Python311\\Lib\\site-packages\\pgmpy\\inference\\base.py:153\u001b[0m, in \u001b[0;36mInference._prune_bayesian_model\u001b[1;34m(self, variables, evidence)\u001b[0m\n\u001b[0;32m    149\u001b[0m variables \u001b[38;5;241m=\u001b[39m \u001b[38;5;28mlist\u001b[39m(\u001b[38;5;28mself\u001b[39m\u001b[38;5;241m.\u001b[39mmodel\u001b[38;5;241m.\u001b[39mnodes()) \u001b[38;5;28;01mif\u001b[39;00m \u001b[38;5;28mlen\u001b[39m(variables) \u001b[38;5;241m==\u001b[39m \u001b[38;5;241m0\u001b[39m \u001b[38;5;28;01melse\u001b[39;00m \u001b[38;5;28mlist\u001b[39m(variables)\n\u001b[0;32m    151\u001b[0m \u001b[38;5;66;03m# Step 1: Remove all the variables that are d-separated from `variables` when conditioned\u001b[39;00m\n\u001b[0;32m    152\u001b[0m \u001b[38;5;66;03m#         on `evidence`\u001b[39;00m\n\u001b[1;32m--> 153\u001b[0m d_connected \u001b[38;5;241m=\u001b[39m \u001b[38;5;28;43mself\u001b[39;49m\u001b[38;5;241;43m.\u001b[39;49m\u001b[43mmodel\u001b[49m\u001b[38;5;241;43m.\u001b[39;49m\u001b[43mactive_trail_nodes\u001b[49m\u001b[43m(\u001b[49m\n\u001b[0;32m    154\u001b[0m \u001b[43m    \u001b[49m\u001b[43mvariables\u001b[49m\u001b[38;5;241;43m=\u001b[39;49m\u001b[43mvariables\u001b[49m\u001b[43m,\u001b[49m\u001b[43m \u001b[49m\u001b[43mobserved\u001b[49m\u001b[38;5;241;43m=\u001b[39;49m\u001b[38;5;28;43mlist\u001b[39;49m\u001b[43m(\u001b[49m\u001b[43mevidence\u001b[49m\u001b[38;5;241;43m.\u001b[39;49m\u001b[43mkeys\u001b[49m\u001b[43m(\u001b[49m\u001b[43m)\u001b[49m\u001b[43m)\u001b[49m\u001b[43m,\u001b[49m\u001b[43m \u001b[49m\u001b[43minclude_latents\u001b[49m\u001b[38;5;241;43m=\u001b[39;49m\u001b[38;5;28;43;01mTrue\u001b[39;49;00m\n\u001b[0;32m    155\u001b[0m \u001b[43m\u001b[49m\u001b[43m)\u001b[49m\n\u001b[0;32m    156\u001b[0m d_connected \u001b[38;5;241m=\u001b[39m \u001b[38;5;28mset\u001b[39m\u001b[38;5;241m.\u001b[39munion(\u001b[38;5;241m*\u001b[39md_connected\u001b[38;5;241m.\u001b[39mvalues())\u001b[38;5;241m.\u001b[39munion(evidence\u001b[38;5;241m.\u001b[39mkeys())\n\u001b[0;32m    157\u001b[0m bn \u001b[38;5;241m=\u001b[39m \u001b[38;5;28mself\u001b[39m\u001b[38;5;241m.\u001b[39mmodel\u001b[38;5;241m.\u001b[39msubgraph(d_connected)\n",
      "File \u001b[1;32mc:\\Users\\lauro\\AppData\\Local\\Programs\\Python\\Python311\\Lib\\site-packages\\pgmpy\\base\\DAG.py:719\u001b[0m, in \u001b[0;36mDAG.active_trail_nodes\u001b[1;34m(self, variables, observed, include_latents)\u001b[0m\n\u001b[0;32m    717\u001b[0m \u001b[38;5;28;01melse\u001b[39;00m:\n\u001b[0;32m    718\u001b[0m     observed_list \u001b[38;5;241m=\u001b[39m []\n\u001b[1;32m--> 719\u001b[0m ancestors_list \u001b[38;5;241m=\u001b[39m \u001b[38;5;28;43mself\u001b[39;49m\u001b[38;5;241;43m.\u001b[39;49m\u001b[43m_get_ancestors_of\u001b[49m\u001b[43m(\u001b[49m\u001b[43mobserved_list\u001b[49m\u001b[43m)\u001b[49m\n\u001b[0;32m    721\u001b[0m \u001b[38;5;66;03m# Direction of flow of information\u001b[39;00m\n\u001b[0;32m    722\u001b[0m \u001b[38;5;66;03m# up ->  from parent to child\u001b[39;00m\n\u001b[0;32m    723\u001b[0m \u001b[38;5;66;03m# down -> from child to parent\u001b[39;00m\n\u001b[0;32m    725\u001b[0m active_trails \u001b[38;5;241m=\u001b[39m {}\n",
      "File \u001b[1;32mc:\\Users\\lauro\\AppData\\Local\\Programs\\Python\\Python311\\Lib\\site-packages\\pgmpy\\base\\DAG.py:781\u001b[0m, in \u001b[0;36mDAG._get_ancestors_of\u001b[1;34m(self, nodes)\u001b[0m\n\u001b[0;32m    779\u001b[0m \u001b[38;5;28;01mfor\u001b[39;00m node \u001b[38;5;129;01min\u001b[39;00m nodes:\n\u001b[0;32m    780\u001b[0m     \u001b[38;5;28;01mif\u001b[39;00m node \u001b[38;5;129;01mnot\u001b[39;00m \u001b[38;5;129;01min\u001b[39;00m \u001b[38;5;28mself\u001b[39m\u001b[38;5;241m.\u001b[39mnodes():\n\u001b[1;32m--> 781\u001b[0m         \u001b[38;5;28;01mraise\u001b[39;00m \u001b[38;5;167;01mValueError\u001b[39;00m(\u001b[38;5;124mf\u001b[39m\u001b[38;5;124m\"\u001b[39m\u001b[38;5;124mNode \u001b[39m\u001b[38;5;132;01m{\u001b[39;00mnode\u001b[38;5;132;01m}\u001b[39;00m\u001b[38;5;124m not in not in graph\u001b[39m\u001b[38;5;124m\"\u001b[39m)\n\u001b[0;32m    783\u001b[0m ancestors_list \u001b[38;5;241m=\u001b[39m \u001b[38;5;28mset\u001b[39m()\n\u001b[0;32m    784\u001b[0m nodes_list \u001b[38;5;241m=\u001b[39m \u001b[38;5;28mset\u001b[39m(nodes)\n",
      "\u001b[1;31mValueError\u001b[0m: Node SIN-EA not in not in graph"
     ]
    }
   ],
   "source": [
    "from pgmpy.inference import VariableElimination\n",
    "infer = VariableElimination(bayesian_network)\n",
    "\n",
    "#variables recebe a lista de variáveis que se deseja observar\n",
    "#evidence são as inferências, nesse caso, que a energia armazenada será estado 4\n",
    "#tomar cuidado para as variáveis informadas estarem na rede\n",
    "\n",
    "print(infer.query(variables=['TER'], evidence={'SIN-EA': 4}))"
   ]
  }
 ],
 "metadata": {
  "kernelspec": {
   "display_name": "Python 3",
   "language": "python",
   "name": "python3"
  },
  "language_info": {
   "codemirror_mode": {
    "name": "ipython",
    "version": 3
   },
   "file_extension": ".py",
   "mimetype": "text/x-python",
   "name": "python",
   "nbconvert_exporter": "python",
   "pygments_lexer": "ipython3",
   "version": "3.11.5"
  }
 },
 "nbformat": 4,
 "nbformat_minor": 2
}
